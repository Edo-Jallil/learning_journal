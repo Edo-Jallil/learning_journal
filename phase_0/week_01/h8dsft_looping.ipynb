{
 "cells": [
  {
   "cell_type": "markdown",
   "metadata": {},
   "source": [
    "# Non-Graded Challenge #1"
   ]
  },
  {
   "cell_type": "code",
   "execution_count": 2,
   "metadata": {},
   "outputs": [],
   "source": [
    "numbers = [951, 402, 984, 651, 360, 69, 408,\n",
    "319, 601, 485, 980, 507, 725, 547, 544, 615,\n",
    "83, 165, 141, 501, 263, 617, 865, 575, 219,\n",
    "390, 984, 592, 236, 105, 942, 941, 386, 462,\n",
    "47, 418, 907, 344, 236, 375, 823, 566, 597,\n",
    "978, 328, 615, 953, 345, 399, 162, 758, 219,\n",
    "918, 237, 412, 566, 826, 248, 866, 950, 626,\n",
    "949]"
   ]
  },
  {
   "cell_type": "code",
   "execution_count": 11,
   "metadata": {},
   "outputs": [
    {
     "name": "stdout",
     "output_type": "stream",
     "text": [
      "[402, 984, 360, 408, 980, 544, 390, 984, 592, 236, 942, 386, 462, 418, 344, 236, 566, 978, 328, 162, 758]\n",
      "Done\n"
     ]
    }
   ],
   "source": [
    "## mendefinisikan 'result' sebagai list untuk mengumpulkan dan menampilkan hasil\n",
    "result = []\n",
    "\n",
    "## mendefinisikan variable 'each' sebagai alat bantu untuk input value ke dalam list 'result'\n",
    "each = \"\"\n",
    "\n",
    "''' untuk setiap elemen yang ada di dalam list 'number':\n",
    "(i) Apabila elemen tersebut genap, assign sebagai value 'each'.\n",
    "(ii) Apabila elemen genap tersebut bernilai 918, hentikan running script.\n",
    "(iii) Apabila bukan bernilai 918, tambahkan elemen tersebut sebagai elemen dalam list 'result' '''\n",
    "for i in range(len(numbers)):\n",
    "    if numbers[i] % 2 == 0:\n",
    "        each = numbers[i]\n",
    "        if numbers[i] == 918:\n",
    "            break\n",
    "        else:\n",
    "            result.append(each)\n",
    "\n",
    "## cetak list 'result' dan kata 'Done' setelah selesai run script\n",
    "print(result)\n",
    "print(\"Done\")\n"
   ]
  }
 ],
 "metadata": {
  "interpreter": {
   "hash": "98516df88a4ceb6e97d0ced10dfc1ce803e9d2e80a353af4f7a80d3d211c4b68"
  },
  "kernelspec": {
   "display_name": "Python 3.9.7 ('base')",
   "language": "python",
   "name": "python3"
  },
  "language_info": {
   "codemirror_mode": {
    "name": "ipython",
    "version": 3
   },
   "file_extension": ".py",
   "mimetype": "text/x-python",
   "name": "python",
   "nbconvert_exporter": "python",
   "pygments_lexer": "ipython3",
   "version": "3.9.7"
  },
  "orig_nbformat": 4
 },
 "nbformat": 4,
 "nbformat_minor": 2
}
