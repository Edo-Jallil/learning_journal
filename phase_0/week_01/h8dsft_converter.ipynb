{
 "cells": [
  {
   "cell_type": "markdown",
   "metadata": {},
   "source": [
    "# Non-Graded Challenge #2"
   ]
  },
  {
   "cell_type": "code",
   "execution_count": 87,
   "metadata": {},
   "outputs": [
    {
     "name": "stdout",
     "output_type": "stream",
     "text": [
      "-70.8 degF equals to -57.11 degC\n"
     ]
    }
   ],
   "source": [
    "''' The <temp_cvrt> function is converting the initial temperature from the initial scale to\n",
    "    temparature in the desired scale according to the inputs (T, init_scale, desired_scale)'''\n",
    "def temp_cvrt(temp, degr_init, degr_to):\n",
    "    if degr_init == 'K':\n",
    "        if degr_to == 'C':\n",
    "            temp_celc = temp - 273.15\n",
    "            print(f'{temp} deg{degr_init} equals to {temp_celc:.2f} deg{degr_to}')\n",
    "        elif degr_to == 'F':\n",
    "            temp_celc = temp - 273.15\n",
    "            temp_fhrt = temp_celc * (9/5) + 32\n",
    "            print(f'{temp} deg{degr_init} equals to {temp_fhrt:.2f} deg{degr_to}')\n",
    "        elif degr_to == degr_init:\n",
    "            print(f'{temp} deg{degr_init} equals to {temp} deg{degr_to}')\n",
    "        else:\n",
    "            print('Wrong \"desired scale\" input')\n",
    "    elif degr_init == 'C':\n",
    "        if degr_to == 'F':\n",
    "            temp_fhrt = temp * (9/5) + 32\n",
    "            print(f'{temp} deg{degr_init} equals to {temp_fhrt:.2f} deg{degr_to}')\n",
    "        elif degr_to == 'K':\n",
    "            temp_kelv = temp + 273.15\n",
    "            print(f'{temp} deg{degr_init} equals to {temp_kelv:.2f} deg{degr_to}')\n",
    "        elif degr_to == degr_init:\n",
    "            print(f'{temp} deg{degr_init} equals to {temp} deg{degr_to}')\n",
    "        else:\n",
    "            print('Wrong \"desired scale\" input')\n",
    "    elif degr_init == 'F':\n",
    "        if degr_to == 'C':\n",
    "            temp_celc = (temp - 32) * (5/9)\n",
    "            print(f'{temp} deg{degr_init} equals to {temp_celc:.2f} deg{degr_to}')\n",
    "        elif degr_to == 'K':\n",
    "            temp_celc = (temp - 32) * (5/9)\n",
    "            temp_kelv = temp_celc + 273.15\n",
    "            print(f'{temp} deg{degr_init} equals to {temp_kelv:.2f} deg{degr_to}')\n",
    "        elif degr_to == degr_init:\n",
    "            print(f'{temp} deg{degr_init} equals to {temp} deg{degr_to}')\n",
    "        else:\n",
    "            print('Wrong \"desired scale\" input')\n",
    "    else:\n",
    "        if degr_to != 'K' and degr_to != 'F' and degr_to != 'C':\n",
    "            print('Wrong \"initial scale\" and \"desired scale\" input')\n",
    "        else:\n",
    "            print('Wrong \"initial scale\" input')\n",
    "\n",
    "# ---------------------------------------------------------------------------------------- #\n",
    "\n",
    "temp_cvrt(-70.8, 'F', 'C')\n",
    "# input initial temperature (1st element)   with any rational number\n",
    "# input initial scale (2nd element)         with 'K' for Kelvin, 'C' for Celcius, or 'F' for Fahrenheit\n",
    "# input desired sclale (3rd element)        with 'K' for Kelvin, 'C' for Celcius, or 'F' for Fahrenheit"
   ]
  }
 ],
 "metadata": {
  "interpreter": {
   "hash": "98516df88a4ceb6e97d0ced10dfc1ce803e9d2e80a353af4f7a80d3d211c4b68"
  },
  "kernelspec": {
   "display_name": "Python 3.9.7 ('base')",
   "language": "python",
   "name": "python3"
  },
  "language_info": {
   "codemirror_mode": {
    "name": "ipython",
    "version": 3
   },
   "file_extension": ".py",
   "mimetype": "text/x-python",
   "name": "python",
   "nbconvert_exporter": "python",
   "pygments_lexer": "ipython3",
   "version": "3.9.7"
  },
  "orig_nbformat": 4
 },
 "nbformat": 4,
 "nbformat_minor": 2
}
